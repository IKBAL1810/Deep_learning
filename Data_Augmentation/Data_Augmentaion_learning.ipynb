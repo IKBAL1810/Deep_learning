{
 "cells": [
  {
   "cell_type": "code",
   "execution_count": 15,
   "id": "f6ebfeab",
   "metadata": {},
   "outputs": [],
   "source": [
    "from tensorflow.keras.preprocessing.image import ImageDataGenerator, array_to_img, img_to_array, load_img\n",
    "\n",
    "import os\n",
    "\n",
    "# Ensure preview directory exists\n",
    "os.makedirs('preview', exist_ok=True)\n",
    "\n",
    "datagen = ImageDataGenerator(\n",
    "    rotation_range=40,\n",
    "    width_shift_range=0.2,\n",
    "    height_shift_range=0.2,\n",
    "    shear_range=0.2,\n",
    "    zoom_range=0.2,\n",
    "    horizontal_flip=True,\n",
    "    fill_mode='nearest'\n",
    ")\n",
    "\n",
    "img = load_img(r'E:\\Skill\\Deep_learning\\Data_Augmentation\\photo\\A-Cat.jpg')\n",
    "x = img_to_array(img)\n",
    "x = x.reshape((1,) + x.shape)\n",
    "\n",
    "i = 0\n",
    "for batch in datagen.flow(x, batch_size=1, save_to_dir='preview', save_prefix='cat', save_format='jpeg'):\n",
    "    i += 1\n",
    "    if i > 20:\n",
    "        break\n"
   ]
  },
  {
   "cell_type": "code",
   "execution_count": null,
   "id": "94cbddca",
   "metadata": {},
   "outputs": [],
   "source": [
    "#dog photo \n",
    "\n",
    "from tensorflow.keras.preprocessing.image import ImageDataGenerator, array_to_img, img_to_array, load_img\n",
    "\n",
    "\n",
    "datagen = ImageDataGenerator(\n",
    "    rotation_range=40,\n",
    "    width_shift_range=0.2,\n",
    "    height_shift_range=0.2,\n",
    "    shear_range=0.2,\n",
    "    zoom_range=0.2,\n",
    "    horizontal_flip=True,\n",
    "    fill_mode='nearest'\n",
    ")\n",
    "\n",
    "img_dog = load_img(r'E:\\Skill\\Deep_learning\\Data_Augmentation/Dog_Breeds.jpg')\n",
    "y = img_to_array(img_dog)\n",
    "y = y.reshape((1,) + y.shape)\n",
    "\n",
    "i = 0\n",
    "for batch in datagen.flow(y, batch_size=1, save_to_dir='preview_dog', save_prefix='dog', save_format='jpeg'):\n",
    "    i += 1\n",
    "    if i > 20:\n",
    "        break\n",
    "\n",
    "\n"
   ]
  },
  {
   "cell_type": "code",
   "execution_count": null,
   "id": "7a7f8cc8",
   "metadata": {},
   "outputs": [
    {
     "name": "stdout",
     "output_type": "stream",
     "text": [
      "✅ Augmentation completed successfully!\n"
     ]
    }
   ],
   "source": [
    "#Augmentation all photo with in a folder\n",
    "\n",
    "\n",
    "from tensorflow.keras.preprocessing.image import ImageDataGenerator, img_to_array, load_img\n",
    "import os\n",
    "\n",
    "# 📂 Folder path যেখানে তোমার ছবি গুলো আছে\n",
    "input_dir = r'E:\\Skill\\Deep_learning\\Data_Augmentation\\photo'\n",
    "output_dir = 'preview_all'\n",
    "\n",
    "# ফোল্ডার না থাকলে তৈরি করো\n",
    "os.makedirs(output_dir, exist_ok=True)\n",
    "\n",
    "# 🌀 Data augmentation setup\n",
    "datagen = ImageDataGenerator(\n",
    "    rotation_range=40,\n",
    "    width_shift_range=0.2,\n",
    "    height_shift_range=0.2,\n",
    "    shear_range=0.2,\n",
    "    zoom_range=0.2,\n",
    "    horizontal_flip=True,\n",
    "    fill_mode='nearest'\n",
    ")\n",
    "\n",
    "# 🔁 ফোল্ডারের প্রতিটি ছবির জন্য augment করা\n",
    "for file in os.listdir(input_dir):\n",
    "    if file.lower().endswith(('.jpg', '.jpeg', '.png')):\n",
    "        img_path = os.path.join(input_dir, file)\n",
    "        img = load_img(img_path)\n",
    "        x = img_to_array(img)\n",
    "        x = x.reshape((1,) + x.shape)\n",
    "\n",
    "        i = 0\n",
    "        for batch in datagen.flow(x, batch_size=1,\n",
    "                                  save_to_dir=output_dir,\n",
    "                                  save_prefix=os.path.splitext(file)[0],\n",
    "                                  save_format='jpeg'):\n",
    "            i += 1\n",
    "            if i > 20:  # প্রতি ছবির জন্য 10টা augmented ছবি তৈরি করবে\n",
    "                break\n",
    "\n",
    "print(\"✅ Augmentation completed successfully!\")\n",
    "\n"
   ]
  },
  {
   "cell_type": "code",
   "execution_count": null,
   "id": "d462b2e6",
   "metadata": {},
   "outputs": [],
   "source": []
  }
 ],
 "metadata": {
  "kernelspec": {
   "display_name": "base",
   "language": "python",
   "name": "python3"
  },
  "language_info": {
   "codemirror_mode": {
    "name": "ipython",
    "version": 3
   },
   "file_extension": ".py",
   "mimetype": "text/x-python",
   "name": "python",
   "nbconvert_exporter": "python",
   "pygments_lexer": "ipython3",
   "version": "3.11.7"
  }
 },
 "nbformat": 4,
 "nbformat_minor": 5
}
