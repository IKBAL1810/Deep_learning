{
 "cells": [
  {
   "cell_type": "code",
   "execution_count": null,
   "id": "f6ebfeab",
   "metadata": {},
   "outputs": [],
   "source": [
    "from tensorflow.keras.preprocessing.image import ImageDataGenerator, array_to_img, img_to_array\n",
    "\n",
    "datagen = ImageDataGenerator(\n",
    "    rotation_range = 40, \n",
    "    width_shift_range= .2,\n",
    "    height_shift_range= .2,\n",
    "    shear_range = .2,\n",
    "    zoom_range = .2,\n",
    "    horizontal_flip = True,\n",
    "    fill_mode = 'nearest'\n",
    ")\n",
    "\n",
    "img = load_img('dataset/s')"
   ]
  },
  {
   "cell_type": "code",
   "execution_count": null,
   "id": "94cbddca",
   "metadata": {},
   "outputs": [],
   "source": []
  }
 ],
 "metadata": {
  "kernelspec": {
   "display_name": "base",
   "language": "python",
   "name": "python3"
  },
  "language_info": {
   "codemirror_mode": {
    "name": "ipython",
    "version": 3
   },
   "file_extension": ".py",
   "mimetype": "text/x-python",
   "name": "python",
   "nbconvert_exporter": "python",
   "pygments_lexer": "ipython3",
   "version": "3.11.7"
  }
 },
 "nbformat": 4,
 "nbformat_minor": 5
}
